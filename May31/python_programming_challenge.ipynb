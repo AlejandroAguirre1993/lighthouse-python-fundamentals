{
 "cells": [
  {
   "cell_type": "markdown",
   "metadata": {},
   "source": [
    "# Python Programming Challenge\n",
    "\n",
    "## Poker Hand\n",
    "\n",
    "In this challenge, we have to determine which kind of Poker combination is present in a deck of 5 cards. Every card is a string containing the card value **with the upper-case initial for face-cards** and the **lower-case initial for the suit**, as seen in the examples below:\n",
    "\n",
    "> \"Ah\" ➞ Ace of hearts <br>\n",
    "> \"Ks\" ➞ King of spades<br>\n",
    "> \"3d\" ➞ Three of diamonds<br>\n",
    "> \"Qc\" ➞ Queen of clubs <br>\n",
    "\n",
    "There are 10 different combinations. Here's the list, in descending order of importance:"
   ]
  },
  {
   "cell_type": "markdown",
   "metadata": {},
   "source": [
    "| Name            | Description                                         |\n",
    "|-----------------|-----------------------------------------------------|\n",
    "| Royal Flush     | A, K, Q, J, 10, all with the same suit.             |\n",
    "| Straight Flush  | Five cards in sequence, all with the same suit.     |\n",
    "| Four of a Kind  | Four cards of the same rank.                        |\n",
    "| Full House      | Three of a Kind with a Pair.                        |\n",
    "| Flush           | Any five cards of the same suit, not in sequence    |\n",
    "| Straight        | Five cards in a sequence, but not of the same suit. |\n",
    "| Three of a Kind | Three cards of the same rank.                       |\n",
    "| Two Pair        | Two different Pairs.                                |\n",
    "| Pair            | Two cards of the same rank.                         |\n",
    "| High Card       | No other valid combination.                         |\n",
    "\n",
    "---------"
   ]
  },
  {
   "cell_type": "markdown",
   "metadata": {},
   "source": [
    "#### 1. Given a list `hand` containing five strings being the cards. Implement a function called `poker_hand_ranking` that **returns a string with the name of the highest combination obtained.** According to the table above.\n",
    "\n",
    "**Examples:**\n",
    "\n",
    "> poker_hand_ranking([\"10h\", \"Jh\", \"Qh\", \"Ah\", \"Kh\"]) ➞ \"Royal Flush\"<br>\n",
    "> poker_hand_ranking([\"3h\", \"5h\", \"Qs\", \"9h\", \"Ad\"]) ➞ \"High Card\"<br>\n",
    "> poker_hand_ranking([\"10s\", \"10c\", \"8d\", \"10d\", \"10h\"]) ➞ \"Four of a Kind\"<br>"
   ]
  },
  {
   "cell_type": "code",
   "execution_count": 48,
   "metadata": {},
   "outputs": [],
   "source": [
    "\n",
    "from collections import defaultdict"
   ]
  },
  {
   "cell_type": "code",
   "execution_count": 199,
   "metadata": {},
   "outputs": [],
   "source": [
    "card_order_dict = {\"2\":2, \"3\":3, \"4\":4, \"5\":5, \"6\":6, \"7\":7, \"8\":8, \"9\":9, \"10\":10,\"J\":11, \"Q\":12, \"K\":13, \"A\":14}\n",
    "\n",
    "def flush(list_of_Cards):\n",
    "    face = [i[:-1] for i in list_of_Cards]\n",
    "    suits = [s[-1] for s in list_of_Cards]  \n",
    "    value_counts = defaultdict(lambda:0)\n",
    "    for v in face:\n",
    "        value_counts[v] += 1\n",
    "    rank_values = [card_order_dict[x] for x in face]\n",
    "    value_range = max(rank_values) - min(rank_values)\n",
    "    if len(set(value_counts.values())) == 1 and value_range != 4  and len(set(suits)) == 1:   \n",
    "        return True\n",
    "    else:\n",
    "        return False\n",
    "def two_pairs(list_of_Cards):\n",
    "    face = [i[0] for i in list_of_Cards] \n",
    "    value_counts = defaultdict(lambda:0)\n",
    "    for v in face:\n",
    "        value_counts[v] += 1\n",
    "  \n",
    "    if sorted(value_counts.values())==[1,2,2]:\n",
    "        return True\n",
    "    else:\n",
    "        return False\n",
    "def royal_flush(list_of_Cards):\n",
    "    face = [i[:-1] for i in list_of_Cards]\n",
    "    suits = [s[-1] for s in list_of_Cards]    \n",
    "    if ('10' in face and'J' in face and'Q' in face and 'A' in face and 'K' in face) and len(set(suits)) == 1:\n",
    "        return True\n",
    "    else:\n",
    "        return False\n",
    "def four_of_a_kind(list_of_Cards):\n",
    "    face = [i[0] for i in list_of_Cards] \n",
    "    value_counts = defaultdict(lambda:0)\n",
    "    for v in face:\n",
    "        value_counts[v] += 1  \n",
    "    if sorted(value_counts.values())==[1,4]:\n",
    "        return True\n",
    "    else:\n",
    "        return False\n",
    "def full_house(list_of_Cards):\n",
    "    face = [i[0] for i in list_of_Cards] \n",
    "    value_counts = defaultdict(lambda:0)\n",
    "    for v in face:\n",
    "        value_counts[v] += 1  \n",
    "    if sorted(value_counts.values())==[2,3]:\n",
    "        return True\n",
    "    else:\n",
    "        return False\n",
    "def Pair(list_of_Cards):\n",
    "    face = [i[0] for i in list_of_Cards] \n",
    "    value_counts = defaultdict(lambda:0)\n",
    "    for v in face:\n",
    "        value_counts[v] += 1  \n",
    "    if 2 in value_counts.values():\n",
    "        return True\n",
    "    else:\n",
    "        return False\n",
    "def Three_of_a_kind(list_of_Cards):\n",
    "    face = [i[0] for i in list_of_Cards] \n",
    "    print(face)\n",
    "    value_counts = defaultdict(lambda:0)\n",
    "    for v in face:\n",
    "        value_counts[v] += 1  \n",
    "    if set(value_counts.values()) == set([3,1,1]):\n",
    "        \n",
    "        return True\n",
    "    else:\n",
    "        return False\n",
    "\n",
    "def straight(list_of_Cards):\n",
    "    face = [i[:-1] for i in list_of_Cards]\n",
    "    suits = [s[-1] for s in list_of_Cards]   \n",
    "    value_counts = defaultdict(lambda:0)\n",
    "    for v in face:\n",
    "        value_counts[v] += 1\n",
    "    rank_values = [card_order_dict[x] for x in face]\n",
    "    value_range = max(rank_values) - min(rank_values)\n",
    "    if len(set(value_counts.values())) == 1 and (value_range == 4) and len(set(suits)) != 1:\n",
    "        return True\n",
    "    else:\n",
    "        return False\n",
    "\n",
    "def straight_flush(list_of_Cards):\n",
    "    face = [i[:-1] for i in list_of_Cards]\n",
    "    suits = [s[-1] for s in list_of_Cards]   \n",
    "    value_counts = defaultdict(lambda:0)\n",
    "    for v in face:\n",
    "        value_counts[v] += 1\n",
    "    rank_values = [card_order_dict[x] for x in face]\n",
    "    value_range = max(rank_values) - min(rank_values)\n",
    "    if len(set(value_counts.values())) == 1 and (value_range == 4) and len(set(suits)) == 1:\n",
    "        return True\n",
    "    else:\n",
    "        return False\n",
    "\n",
    "\n",
    "\n",
    "\n",
    "\n",
    "\n",
    "\n",
    "    \n",
    "    \n",
    "    \n",
    "    \n",
    "   \n",
    "    \n",
    "\n"
   ]
  },
  {
   "cell_type": "code",
   "execution_count": 200,
   "metadata": {},
   "outputs": [],
   "source": [
    "def poker_hand_ranking(list_of_Cards):\n",
    "    empty_string = ''\n",
    "    if flush(list_of_Cards) == True:\n",
    "        empty_string = 'Flush'\n",
    "        return empty_string \n",
    "    if two_pairs(list_of_Cards) == True:\n",
    "        empty_string = 'Two Pair'\n",
    "        return empty_string\n",
    "    if royal_flush(list_of_Cards) == True:\n",
    "        empty_string = 'Royal Flush'\n",
    "        return empty_string\n",
    "    if four_of_a_kind(list_of_Cards) == True:\n",
    "        empty_string = 'Four of a Kind'\n",
    "        return empty_string\n",
    "    if full_house(list_of_Cards) == True:\n",
    "        empty_string = 'Full House'\n",
    "        return empty_string\n",
    "    if Pair(list_of_Cards) == True:\n",
    "        empty_string = 'Pair'\n",
    "        return empty_string\n",
    "    if Three_of_a_kind(list_of_Cards) == True:\n",
    "        empty_string = 'Three_of a Kind'\n",
    "        return empty_string\n",
    "    if straight(list_of_Cards) == True:\n",
    "        empty_string = 'straight'\n",
    "        return empty_string\n",
    "    if  straight_flush(list_of_Cards) == True:\n",
    "        empty_string = 'straight flush'\n",
    "        return empty_string\n",
    "    else :\n",
    "        empty_string = \"High Card\"\n",
    "        return empty_string\n",
    "        \n",
    "    "
   ]
  },
  {
   "cell_type": "code",
   "execution_count": 203,
   "metadata": {},
   "outputs": [
    {
     "data": {
      "text/plain": [
       "'Royal Flush'"
      ]
     },
     "execution_count": 203,
     "metadata": {},
     "output_type": "execute_result"
    }
   ],
   "source": [
    "poker_hand_ranking([\"Ah\", \"Qh\", \"Kh\", \"Jh\", \"10h\"])"
   ]
  },
  {
   "cell_type": "markdown",
   "metadata": {},
   "source": [
    "------------\n",
    "### **Stretch Content**\n",
    "\n",
    "#### 2.  Implement a function `winner_is` that returns the winner given a dictionary with different players and their hands. \n",
    "**Example**\n",
    "\n",
    "We define dictionary like\n",
    "```python\n",
    "round_1 = {\"John\" = [\"10h\", \"Jh\", \"Qh\", \"Ah\", \"Kh\"], \n",
    "        \"Peter\" = [\"3h\", \"5h\", \"Qs\", \"9h\", \"Ad\"]}\n",
    "```\n",
    "\n",
    "Our function returns the name of the winner:\n",
    "> winner_is(round_1) --> \"John\"\n",
    "\n",
    "One table can have up to 10 players.\n"
   ]
  },
  {
   "cell_type": "code",
   "execution_count": null,
   "metadata": {},
   "outputs": [],
   "source": []
  },
  {
   "cell_type": "code",
   "execution_count": null,
   "metadata": {},
   "outputs": [],
   "source": []
  },
  {
   "cell_type": "code",
   "execution_count": null,
   "metadata": {},
   "outputs": [],
   "source": []
  },
  {
   "cell_type": "code",
   "execution_count": null,
   "metadata": {},
   "outputs": [],
   "source": []
  },
  {
   "cell_type": "markdown",
   "metadata": {},
   "source": [
    "#### 3. Create a function `distribute_cards` that randomly generates and gives 5 cards to every player given a list of player names.\n",
    "\n",
    "**Example**\n",
    "\n",
    "> distribute_cards([\"John\",\"Peter\"])  -> round_1 = {\"John\" = [\"10h\", \"Jh\", \"Qh\", \"Ah\", \"Kh\"], \n",
    "        \"Peter\" = [\"3h\", \"5h\", \"Qs\", \"9h\", \"Ad\"]\n",
    "}"
   ]
  },
  {
   "cell_type": "code",
   "execution_count": null,
   "metadata": {},
   "outputs": [],
   "source": []
  },
  {
   "cell_type": "code",
   "execution_count": null,
   "metadata": {},
   "outputs": [],
   "source": []
  },
  {
   "cell_type": "code",
   "execution_count": null,
   "metadata": {},
   "outputs": [],
   "source": []
  },
  {
   "cell_type": "code",
   "execution_count": null,
   "metadata": {},
   "outputs": [],
   "source": []
  }
 ],
 "metadata": {
  "kernelspec": {
   "display_name": "Python 3",
   "language": "python",
   "name": "python3"
  },
  "language_info": {
   "codemirror_mode": {
    "name": "ipython",
    "version": 3
   },
   "file_extension": ".py",
   "mimetype": "text/x-python",
   "name": "python",
   "nbconvert_exporter": "python",
   "pygments_lexer": "ipython3",
   "version": "3.8.8"
  }
 },
 "nbformat": 4,
 "nbformat_minor": 4
}
